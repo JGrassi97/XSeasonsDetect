{
 "cells": [
  {
   "cell_type": "markdown",
   "metadata": {},
   "source": [
    "# Appendix 02 - Data preprocessing: *ERA5 data*"
   ]
  },
  {
   "cell_type": "code",
   "execution_count": 1,
   "metadata": {},
   "outputs": [],
   "source": [
    "import xarray as xr\n",
    "import os\n",
    "import numpy as np\n",
    "\n",
    "import xarray as xr\n",
    "import rioxarray\n",
    "import matplotlib.pyplot as plt\n",
    "import geopandas as gpd\n",
    "from shapely.geometry import mapping\n",
    "\n",
    "import pandas as pd"
   ]
  },
  {
   "cell_type": "markdown",
   "metadata": {},
   "source": [
    "Path for complete file:\n",
    "- Temperature:      `../data/raw/ERA5/2m_temperature`\n",
    "- Precipitation:    `../data/raw/ERA5/total_precipitation`"
   ]
  },
  {
   "cell_type": "markdown",
   "metadata": {},
   "source": [
    "## STEP 1: regridding\n",
    "\n",
    "- Define a target grid:\n",
    "\n",
    "\n",
    "gridtype = lonlat   <br />\n",
    "xsize    = 360      <br />\n",
    "ysize    = 180      <br />\n",
    "xfirst   = −179.5   <br />\n",
    "xinc     = 1        <br />\n",
    "yfirst   = -89.5    <br />\n",
    "yinc     = 1        <br />\n"
   ]
  },
  {
   "cell_type": "code",
   "execution_count": 2,
   "metadata": {},
   "outputs": [
    {
     "name": "stdout",
     "output_type": "stream",
     "text": [
      "cdo(1) selyear: Process started\n",
      "cdo    remapbil: Bilinear weights from lonlat (141x141) to lonlat (41x36) grid\n",
      "cdo(1) selyear: Processed 435692115 values from 1 variable over 25567 timesteps.\n",
      "cdo    remapbil: Processed 435692115 values from 1 variable over 21915 timesteps [6.58s 110MB].\n",
      "cdo    splityear: Processed 32346540 values from 1 variable over 21915 timesteps [2.19s 90MB].\n",
      "cdo(1) selyear: Process started\n",
      "cdo    remapbil: Bilinear weights from lonlat (141x141) to lonlat (41x36) grid\n",
      "cdo(1) selyear: Processed 434459493 values from 1 variable over 26966 timesteps.\n",
      "cdo    remapbil: Processed 434459493 values from 1 variable over 21853 timesteps [6.77s 118MB].\n"
     ]
    }
   ],
   "source": [
    "os.system('cdo remapbil,../data/preprocessed/ERA5/target_grid.txt -selyear,1960/2019 ../data/raw/ERA5/2m_temperature/temperature_1950-2019.nc ../data/temp/ERA5/2m_temperature/temperature_temp.nc')\n",
    "os.system('cdo splityear ../data/temp/ERA5/2m_temperature/temperature_temp.nc ../data/temp/ERA5/2m_temperature/temperature_')\n",
    "os.remove('../data/temp/ERA5/2m_temperature/temperature_temp.nc')\n",
    "\n",
    "os.system('cdo remapbil,../data/preprocessed/ERA5/target_grid.txt -selyear,1960/2019 ../data/raw/ERA5/total_precipitation/precipitation_1950-2023.nc ../data/temp/ERA5/total_precipitation/precipitation_temp.nc')\n",
    "os.system('cdo splityear ../data/temp/ERA5/total_precipitation/precipitation_temp.nc ../data/temp/ERA5/total_precipitation/precipitation_')\n",
    "os.remove('../data/temp/ERA5/total_precipitation/precipitation_temp.nc')"
   ]
  },
  {
   "cell_type": "code",
   "execution_count": null,
   "metadata": {},
   "outputs": [
    {
     "name": "stderr",
     "output_type": "stream",
     "text": [
      "/home/jgrassi/miniconda3/lib/python3.11/site-packages/gribapi/__init__.py:23: UserWarning: ecCodes 2.31.0 or higher is recommended. You are running version 2.24.2\n",
      "  warnings.warn(\n"
     ]
    }
   ],
   "source": [
    "temperature_dataset = xr.open_mfdataset('../data/temp/ERA5/2m_temperature/*.nc')\n",
    "precipitation_dataset = xr.open_mfdataset('../data/temp/ERA5/total_precipitation/*.nc').chunk(dict(time=-1))"
   ]
  },
  {
   "cell_type": "code",
   "execution_count": null,
   "metadata": {},
   "outputs": [],
   "source": [
    "### FILLING NA IN DATASET TP\n",
    "\n",
    "# Verifica l'asse temporale del dataset\n",
    "time = precipitation_dataset.time\n",
    "\n",
    "# Crea un indice completo con frequenza oraria\n",
    "complete_time_index = pd.date_range(start=time.min().item(), end=time.max().item(), freq='D')\n",
    "\n",
    "# Reindicizza il dataset per includere tutte le date, anche quelle mancanti\n",
    "ds_reindexed = precipitation_dataset.reindex(time=complete_time_index)\n",
    "\n",
    "# Interpola i dati per riempire i valori mancanti\n",
    "precipitation_dataset = ds_reindexed.interpolate_na(dim='time', method='linear')"
   ]
  },
  {
   "cell_type": "code",
   "execution_count": null,
   "metadata": {},
   "outputs": [],
   "source": [
    "world_boundary_file   = '../data/raw/external/GADM41_WORLD.gpkg'\n",
    "world_boundary = gpd.read_file(world_boundary_file, layer='ADM_1')"
   ]
  },
  {
   "cell_type": "code",
   "execution_count": null,
   "metadata": {},
   "outputs": [],
   "source": [
    "def clean_cut(dataset_ori, boundary):\n",
    "\n",
    "    # Converting calendar and removing useless dimensions\n",
    "    dataset_ori = dataset_ori.convert_calendar('noleap')\n",
    "    dataset_ori = dataset_ori.drop_dims('bnds')\n",
    "\n",
    "    # Setting the datasets for masking\n",
    "    dataset_ori.rio.set_spatial_dims(x_dim=\"lon\", y_dim=\"lat\", inplace=True)\n",
    "    dataset_ori.rio.write_crs(\"epsg:4326\", inplace=True)\n",
    "\n",
    "    # Masking the datasets\n",
    "    dataset_ori = dataset_ori.rio.clip(boundary.geometry.apply(mapping), boundary.crs, drop=True)\n",
    "\n",
    "    return dataset_ori\n",
    "    "
   ]
  },
  {
   "cell_type": "code",
   "execution_count": null,
   "metadata": {},
   "outputs": [],
   "source": [
    "dataset_t2m_ori = clean_cut(temperature_dataset, world_boundary).rolling(time=15, center=True).mean().sel(time=slice('1961','2018'))\n",
    "dataset_tp_ori = clean_cut(precipitation_dataset, world_boundary).rolling(time=15, center=True).mean().sel(time=slice('1961','2018'))"
   ]
  },
  {
   "cell_type": "code",
   "execution_count": null,
   "metadata": {},
   "outputs": [],
   "source": [
    "dataset_t2m_ori.to_netcdf('../data/preprocessed/ERA5/2m_temperature/temperature_preprocessed.nc')\n",
    "dataset_tp_ori.to_netcdf('../data/preprocessed/ERA5/total_precipitation/precipitation_preprocessed.nc')"
   ]
  }
 ],
 "metadata": {
  "kernelspec": {
   "display_name": "base",
   "language": "python",
   "name": "python3"
  },
  "language_info": {
   "codemirror_mode": {
    "name": "ipython",
    "version": 3
   },
   "file_extension": ".py",
   "mimetype": "text/x-python",
   "name": "python",
   "nbconvert_exporter": "python",
   "pygments_lexer": "ipython3",
   "version": "3.11.5"
  }
 },
 "nbformat": 4,
 "nbformat_minor": 2
}
