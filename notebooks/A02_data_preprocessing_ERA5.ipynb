{
 "cells": [
  {
   "cell_type": "markdown",
   "metadata": {},
   "source": [
    "# Appendix 02 - Data preprocessing: *ERA5 data*"
   ]
  },
  {
   "cell_type": "code",
   "execution_count": 1,
   "metadata": {},
   "outputs": [],
   "source": [
    "import xarray as xr\n",
    "import os\n",
    "import numpy as np\n",
    "import cftime \n",
    "import xarray as xr\n",
    "import rioxarray\n",
    "import matplotlib.pyplot as plt\n",
    "import geopandas as gpd\n",
    "from shapely.geometry import mapping\n",
    "import dask \n",
    "\n",
    "# dask.config.set(**{'array.slicing.split_large_chunks': True})\n",
    "import pandas as pd"
   ]
  },
  {
   "cell_type": "code",
   "execution_count": 2,
   "metadata": {},
   "outputs": [],
   "source": [
    "world_boundary_file     = '../data/raw/external/GADM41_WORLD.gpkg' \n",
    "world_boundary      = gpd.read_file(world_boundary_file, layer = 'ADM_0')"
   ]
  },
  {
   "cell_type": "markdown",
   "metadata": {},
   "source": [
    "Path for complete file:\n",
    "- Temperature:      `../data/raw/ERA5/2m_temperature`\n",
    "- Precipitation:    `../data/raw/ERA5/total_precipitation`"
   ]
  },
  {
   "cell_type": "markdown",
   "metadata": {},
   "source": [
    "## STEP 1: regridding\n",
    "\n",
    "- Define a target grid:\n",
    "\n",
    "\n",
    "gridtype = lonlat   <br />\n",
    "xsize    = 360      <br />\n",
    "ysize    = 180      <br />\n",
    "xfirst   = −179.5   <br />\n",
    "xinc     = 1        <br />\n",
    "yfirst   = -89.5    <br />\n",
    "yinc     = 1        <br />\n"
   ]
  },
  {
   "cell_type": "code",
   "execution_count": 3,
   "metadata": {},
   "outputs": [],
   "source": [
    "def sel_years(dataset, start, end):\n",
    "\n",
    "    dataset = dataset.sel(time=slice(start, end)).chunk(dict(time=-1))\n",
    "    return dataset\n",
    "\n",
    "\n",
    "def interpolate_na(dataset):\n",
    "\n",
    "    try:\n",
    "        ### FILLING NA IN DATASET TP\n",
    "        # Verifica l'asse temporale del dataset\n",
    "        time = dataset.time\n",
    "\n",
    "        # Crea un indice completo con frequenza oraria\n",
    "        complete_time_index = pd.date_range(start=time.min().item(), end=time.max().item(), freq='D')\n",
    "\n",
    "    except:\n",
    "        dataset = dataset.convert_calendar('standard')\n",
    "        ### FILLING NA IN DATASET TP\n",
    "        # Verifica l'asse temporale del dataset\n",
    "        time = dataset.time\n",
    "\n",
    "        # Crea un indice completo con frequenza oraria\n",
    "        complete_time_index = pd.date_range(start=time.min().item(), end=time.max().item(), freq='D')\n",
    "        \n",
    "    # Reindicizza il dataset per includere tutte le date, anche quelle mancanti\n",
    "    ds_reindexed = dataset.reindex(time=complete_time_index)\n",
    "\n",
    "    # Interpola i dati per riempire i valori mancanti\n",
    "    dataset = dataset = ds_reindexed.interpolate_na(dim='time', method='linear')\n",
    "\n",
    "    return dataset\n",
    "\n",
    "\n",
    "\n",
    "def clean_cut(dataset, boundary = None, window = None, remove_empty = True):\n",
    "\n",
    "    # Converting calendar and removing useless dimensions\n",
    "    dataset = dataset.convert_calendar('noleap')\n",
    "    dataset = dataset.drop_dims('bnds')\n",
    "\n",
    "    if boundary is not None:\n",
    "        # Setting the datasets for masking\n",
    "        dataset.rio.set_spatial_dims(x_dim=\"lon\", y_dim=\"lat\", inplace=True)\n",
    "        dataset.rio.write_crs(\"epsg:4326\", inplace=True)\n",
    "\n",
    "        # Masking the datasets\n",
    "        dataset = dataset.rio.clip(boundary.geometry.apply(mapping), boundary.crs, drop=True)\n",
    "\n",
    "    if window is not None:\n",
    "        dataset = dataset.rolling(time=window, center=True).mean()\n",
    "\n",
    "    \n",
    "    if remove_empty:\n",
    "\n",
    "        start_year = dataset.time.dt.year.min().values\n",
    "        end_year = dataset.time.dt.year.max().values\n",
    "        dataset = dataset.sel(time=slice(str(start_year+1),str(end_year-1)))\n",
    "\n",
    "    return dataset\n",
    "\n",
    "\n",
    "def remap_cdo(in_file, out_file, grid_file):\n",
    "\n",
    "    os.system(f'cdo remapbil,{grid_file} {in_file} {out_file}')\n",
    "\n",
    "\n",
    "\n",
    "\n",
    "def standard_preprocess(in_path, temp_path, out_path, start_year, end_year, grid_file, boundary = None, window = None, remove_empty = True, out_filename = 'final'):\n",
    "\n",
    "    remap_cdo(f'{in_path}/*.nc', f'{temp_path}/temp.nc', grid_file)\n",
    "\n",
    "    raw_dataset = xr.open_mfdataset(f'{temp_path}/temp.nc')\n",
    "\n",
    "    dataset_work = sel_years(raw_dataset, str(start_year),str(end_year))\n",
    "    dataset_work = interpolate_na(dataset_work)\n",
    "    dataset_work = clean_cut(dataset_work, boundary, window, remove_empty)\n",
    "\n",
    "    dataset_work.to_netcdf(f'{out_path}/{out_filename}.nc')\n",
    "\n",
    "    os.remove(f'{temp_path}/temp.nc')"
   ]
  },
  {
   "cell_type": "markdown",
   "metadata": {},
   "source": [
    "### ERA5"
   ]
  },
  {
   "cell_type": "code",
   "execution_count": 4,
   "metadata": {},
   "outputs": [],
   "source": [
    "raw_data_paths       = ['../data/raw/ERA5/2m_temperature', '../data/raw/ERA5/total_precipitation']\n",
    "temp_data_paths      = ['../data/temp/ERA5/2m_temperature', '../data/temp/ERA5/total_precipitation']\n",
    "preproc_data_paths   = ['../data/preprocessed/ERA5/2m_temperature', '../data/preprocessed/ERA5/total_precipitation']\n",
    "\n",
    "target_grid_path    = '../data/preprocessed/ERA5/target_grid.txt' \n"
   ]
  },
  {
   "cell_type": "code",
   "execution_count": 5,
   "metadata": {},
   "outputs": [
    {
     "name": "stdout",
     "output_type": "stream",
     "text": [
      "cdo    remapbil: Bilinear weights from lonlat (141x141) to lonlat (41x36) grid\n",
      "cdo    remapbil: Processed 508297527 values from 1 variable over 25567 timesteps [18.83s 120MB].\n"
     ]
    },
    {
     "name": "stderr",
     "output_type": "stream",
     "text": [
      "/home/jgrassi/miniconda3/lib/python3.11/site-packages/gribapi/__init__.py:23: UserWarning: ecCodes 2.31.0 or higher is recommended. You are running version 2.24.2\n",
      "  warnings.warn(\n"
     ]
    },
    {
     "name": "stdout",
     "output_type": "stream",
     "text": [
      "cdo    remapbil: Bilinear weights from lonlat (141x141) to lonlat (41x36) grid\n",
      "cdo    remapbil: Processed 536111046 values from 1 variable over 26966 timesteps [23.01s 124MB].\n"
     ]
    }
   ],
   "source": [
    "for raw_path, temp_path, preprocess_path in zip(raw_data_paths,temp_data_paths,preproc_data_paths):\n",
    "\n",
    "    standard_preprocess(raw_path, temp_path, preprocess_path, 1968, 2019, target_grid_path, world_boundary, 15, True, 'final')"
   ]
  },
  {
   "cell_type": "code",
   "execution_count": 6,
   "metadata": {},
   "outputs": [],
   "source": [
    "# # raw_data_paths       = ['../data/raw/CMIP6/EC-Earth3/ssp585/2m_temperature', '../data/raw/CMIP6/EC-Earth3/ssp585/total_precipitation']\n",
    "# # temp_data_paths      = ['../data/temp/CMIP6/EC-Earth3/ssp585/2m_temperature', '../data/temp/CMIP6/EC-Earth3/ssp585/total_precipitation']\n",
    "# # preproc_data_paths   = ['../data/preprocessed/CMIP6/EC-Earth3/ssp585/2m_temperature', '../data/preprocessed/CMIP6/EC-Earth3/ssp585/total_precipitation']\n",
    "\n",
    "# raw_data_paths       = ['../data/raw/CMIP6/EC-Earth3/ssp585/total_precipitation']\n",
    "# temp_data_paths      = ['../data/temp/CMIP6/EC-Earth3/ssp585/total_precipitation']\n",
    "# preproc_data_paths   = ['../data/preprocessed/CMIP6/EC-Earth3/ssp585/total_precipitation']\n",
    "\n",
    "# target_grid_path    = '../data/preprocessed/ERA5/target_grid.txt' "
   ]
  },
  {
   "cell_type": "code",
   "execution_count": 7,
   "metadata": {},
   "outputs": [],
   "source": [
    "# for raw_path, temp_path, preprocess_path in zip(raw_data_paths,temp_data_paths,preproc_data_paths):\n",
    "\n",
    "#     standard_preprocess(raw_path, temp_path, preprocess_path, 2019, 2041, target_grid_path, world_boundary, 15, True, 'short_term_2020-2040')\n",
    "#     standard_preprocess(raw_path, temp_path, preprocess_path, 2038, 2071, target_grid_path, world_boundary, 15, True, 'medium_term_2040-2070')\n",
    "#     standard_preprocess(raw_path, temp_path, preprocess_path, 2069, 2199, target_grid_path, world_boundary, 15, True, 'long_term_2070-2100')"
   ]
  }
 ],
 "metadata": {
  "kernelspec": {
   "display_name": "base",
   "language": "python",
   "name": "python3"
  },
  "language_info": {
   "codemirror_mode": {
    "name": "ipython",
    "version": 3
   },
   "file_extension": ".py",
   "mimetype": "text/x-python",
   "name": "python",
   "nbconvert_exporter": "python",
   "pygments_lexer": "ipython3",
   "version": "3.11.5"
  }
 },
 "nbformat": 4,
 "nbformat_minor": 2
}
