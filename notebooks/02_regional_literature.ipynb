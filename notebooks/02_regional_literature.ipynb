{
 "cells": [
  {
   "cell_type": "markdown",
   "metadata": {},
   "source": [
    "# 02 - Regional Literature: *Indian Monsoon Onset and Withdrawal*"
   ]
  },
  {
   "cell_type": "code",
   "execution_count": 1,
   "metadata": {},
   "outputs": [],
   "source": [
    "import matplotlib.pyplot as plt\n",
    "import geopandas as gpd\n",
    "import pandas as pd\n",
    "from shapely.geometry import mapping, Point\n",
    "import datetime\n",
    "import numpy as np\n",
    "import rioxarray\n",
    "from scipy.interpolate import griddata\n",
    "\n",
    "import xarray as xr\n",
    "\n",
    "from mpl_toolkits.axes_grid1 import make_axes_locatable\n",
    "\n",
    "from visualization.custom_plots import standard_format_single, day_of_year_to_date"
   ]
  },
  {
   "cell_type": "code",
   "execution_count": 2,
   "metadata": {},
   "outputs": [],
   "source": [
    "# Geopackages with boundaries\n",
    "country_boundary_file   = '../data/raw/external/GADM41_IND.gpkg' \n",
    "world_boundary_file     = '../data/raw/external/GADM41_WORLD.gpkg' \n",
    "\n",
    "# Geodataframes for boudaries - Level 0 is for country boundaries \n",
    "country_boundary    = gpd.read_file(country_boundary_file, layer = 'ADM_ADM_1')\n",
    "world_boundary      = gpd.read_file(world_boundary_file, layer = 'ADM_0')"
   ]
  },
  {
   "cell_type": "code",
   "execution_count": 3,
   "metadata": {},
   "outputs": [],
   "source": [
    "gridded_dates_file      = '../data/preprocessed/external/monsoon_dates.nc'\n",
    "ds_rast = xr.open_dataset(gridded_dates_file)"
   ]
  },
  {
   "cell_type": "code",
   "execution_count": 4,
   "metadata": {},
   "outputs": [],
   "source": [
    "to_plot_onset = ds_rast.sel(season_idx='onset').date\n",
    "to_plot_wit = ds_rast.sel(season_idx='withdrawal').date\n",
    "\n",
    "for to_plot, cmap, title in zip([to_plot_onset, to_plot_wit],\n",
    "                                ['summer', 'plasma_r'],\n",
    "                                ['Monsoon Onset - Literature','Monsoon Withdrawal - Literature']):\n",
    "    \n",
    "\n",
    "    lev = np.linspace(to_plot.min()+15,to_plot.max()-1,6)\n",
    "\n",
    "    plot_contourf = to_plot.plot(levels = lev, add_colorbar = False, figsize = (6,6), cmap = cmap)\n",
    "    plot_contour  = to_plot.plot.contour(levels = lev, colors = 'white', linewidths = 1.5)\n",
    "\n",
    "    standard_format_single( plot_contourf,\n",
    "                            country_boundary   = country_boundary,\n",
    "                            world_boundary     = world_boundary,\n",
    "                            custom_cbar        = True\n",
    "                            )\n",
    "\n",
    "    plot_contourf.colorbar.set_ticks(ticks=lev, labels=[day_of_year_to_date(x) for x in lev])\n",
    "\n",
    "    plt.title('Monsoon Onset - Literature')"
   ]
  }
 ],
 "metadata": {
  "kernelspec": {
   "display_name": "base",
   "language": "python",
   "name": "python3"
  },
  "language_info": {
   "codemirror_mode": {
    "name": "ipython",
    "version": 3
   },
   "file_extension": ".py",
   "mimetype": "text/x-python",
   "name": "python",
   "nbconvert_exporter": "python",
   "pygments_lexer": "ipython3",
   "version": "3.11.5"
  }
 },
 "nbformat": 4,
 "nbformat_minor": 2
}
