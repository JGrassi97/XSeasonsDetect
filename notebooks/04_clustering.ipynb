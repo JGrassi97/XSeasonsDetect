{
 "cells": [
  {
   "cell_type": "markdown",
   "metadata": {},
   "source": [
    "# 04 - Clustering"
   ]
  },
  {
   "cell_type": "code",
   "execution_count": 45,
   "metadata": {},
   "outputs": [],
   "source": [
    "import xarray as xr\n",
    "import matplotlib.pyplot as plt\n",
    "import geopandas as gpd\n",
    "from sklearn.metrics import silhouette_score\n",
    "import numpy as np\n",
    "\n",
    "import os\n",
    "\n",
    "from models.X_RCC import XRCC, XRCC_silhouette\n",
    "from visualization.custom_plots import standard_format, day_of_year_to_date, standard_format_single, plot_seasons_bk_results\n",
    "\n",
    "import warnings\n",
    "warnings.filterwarnings('ignore')"
   ]
  },
  {
   "cell_type": "code",
   "execution_count": 46,
   "metadata": {},
   "outputs": [],
   "source": [
    "# -- FREE PARAMETERS\n",
    "n_seasons   = 2\n",
    "n_iters     = 2\n",
    "\n",
    "learning_rate   = 10\n",
    "min_len         = 30\n",
    "mode            = 'single'\n",
    "starting_bp     = [165, 264]\n",
    "\n",
    "subscribe_results = False"
   ]
  },
  {
   "cell_type": "code",
   "execution_count": 47,
   "metadata": {},
   "outputs": [
    {
     "name": "stdout",
     "output_type": "stream",
     "text": [
      "Results already stored! - Skipping clustering\n"
     ]
    }
   ],
   "source": [
    "# Geopackages with boundaries\n",
    "country_boundary_file   = '../data/raw/external/GADM41_IND.gpkg' \n",
    "world_boundary_file     = '../data/raw/external/GADM41_WORLD.gpkg' \n",
    "\n",
    "# Path for results\n",
    "results_path_file   = f'../data/results/netcdf_files/clustering_results_{n_seasons}seas_{n_iters}iters.nc'\n",
    "results_path_image  = f'../data/results/images/clustering_results_{n_seasons}seas_{n_iters}iters.png'\n",
    "\n",
    "if os.path.exists(results_path_file) and subscribe_results:\n",
    "    results_exist = True\n",
    "    print('Results already stored! - Overwriting')\n",
    "\n",
    "if os.path.exists(results_path_file) and not subscribe_results:\n",
    "    results_exist = True\n",
    "    print('Results already stored! - Skipping clustering')\n",
    "\n",
    "# Geodataframes for boudaries - Level 0 is for country boundaries \n",
    "country_boundary    = gpd.read_file(country_boundary_file, layer = 'ADM_ADM_1')\n",
    "world_boundary      = gpd.read_file(world_boundary_file, layer = 'ADM_0')"
   ]
  },
  {
   "cell_type": "code",
   "execution_count": 48,
   "metadata": {},
   "outputs": [],
   "source": [
    "if not os.path.exists(results_path_file) or subscribe_results:\n",
    "\n",
    "    dataset_t2m = xr.open_mfdataset(rf'/work/users/jgrassi/Radially_constrained_clustering/data/India/ERA5/preprocessed/2m_temperature/temperature_1980_2011_15dd.nc').var167.load()\n",
    "    dataset_tp = xr.open_mfdataset(rf'/work/users/jgrassi/Radially_constrained_clustering/data/India/ERA5/preprocessed/total_precipitation/precipitation_1980_2011_15dd.nc').tp.load()\n",
    "\n",
    "    dataset_tp['time'] = dataset_t2m['time']\n",
    "\n",
    "    datasets = [dataset_tp, dataset_t2m]  # Add as many datasets as needed\n",
    "\n",
    "    clustering_params = {\n",
    "        'iters': n_iters,\n",
    "        'n_seas': n_seasons,\n",
    "        'learning_rate': learning_rate,\n",
    "        'min_len': min_len,\n",
    "        'mode': mode,\n",
    "        'starting_bp': starting_bp,\n",
    "    }\n",
    "\n",
    "    result = XRCC(datasets, **clustering_params)\n",
    "\n",
    "else:\n",
    "    result = xr.open_dataset(results_path_file).__xarray_dataarray_variable__"
   ]
  },
  {
   "cell_type": "code",
   "execution_count": 49,
   "metadata": {},
   "outputs": [],
   "source": [
    "plot_seasons_bk_results( result, figsize=(10,5), cmaps=['summer', 'plasma_r'],\n",
    "                         lims=[[150,180],[245,300]], titles=['Monsoon Onset', 'Monsoon Withdrawal'],\n",
    "                         country_boundary=country_boundary, world_boundary=world_boundary)\n",
    "\n",
    "plt.savefig(results_path_image, dpi=300, bbox_inches='tight', transparent=False)"
   ]
  },
  {
   "cell_type": "code",
   "execution_count": null,
   "metadata": {},
   "outputs": [],
   "source": [
    "if not os.path.exists(results_path_file) or subscribe_results:\n",
    "    \n",
    "    result.attrs=dict(\n",
    "            Description=\"Dataset with seasonal onset dates obtained with Radially Constrained Clustering\",\n",
    "            Parameters=(\n",
    "\n",
    "                f\"Number of seasons: {n_seasons}\",\n",
    "                f\"Number of iterations: {n_iters}\",\n",
    "                f\"Learning rate: {learning_rate}\",\n",
    "                f\"Minimum length of seasons: {min_len}\",\n",
    "                f\"Clustering mode: {mode}\",\n",
    "                f\"Initializtion dates: {[day_of_year_to_date(x) for x in starting_bp]}\",\n",
    "        \n",
    "            )\n",
    "        )\n",
    "\n",
    "    result.to_netcdf(results_path_file)"
   ]
  },
  {
   "cell_type": "code",
   "execution_count": null,
   "metadata": {},
   "outputs": [],
   "source": [
    "# datasets = [dataset_tp, dataset_t2m]  # List of xarray DataArrays\n",
    "\n",
    "# tot = []\n",
    "# for j, st in zip([2,4], [[165, 264],[80, 165, 264, 300]]):\n",
    "#     clustering_params = {\n",
    "#         'iters': 100,\n",
    "#         'learning_rate': 10,\n",
    "#         'min_len': 30,\n",
    "#         'mode': 'single',\n",
    "#         'starting_bp': st,  # Optional, if starting_bp is used\n",
    "#         'n_seas' : j\n",
    "#     }\n",
    "\n",
    "#     silhouette_scores = XRCC_silhouette(datasets, **clustering_params)\n",
    "#     tot.append(silhouette_scores.assign_coords(n_seasons=j))\n",
    "\n",
    "# tota = xr.concat(tot, dim='n_seasons')\n"
   ]
  },
  {
   "cell_type": "code",
   "execution_count": null,
   "metadata": {},
   "outputs": [],
   "source": [
    "# plot = tota.plot(col='n_seasons', col_wrap=2, vmin=0, vmax=0.25, levels=7, add_colorbar=False, figsize=(7,3))\n",
    "\n",
    "# standard_format( plot,\n",
    "#                  country_boundary   = country_boundary,\n",
    "#                  world_boundary     = world_boundary,\n",
    "#                  custom_cbar        = True\n",
    "#                 )"
   ]
  },
  {
   "cell_type": "code",
   "execution_count": null,
   "metadata": {},
   "outputs": [],
   "source": [
    "# combined_data_array_filled = tota.fillna(-np.inf)\n",
    "# max_n_seasons_idx = combined_data_array_filled.argmax(dim='n_seasons')\n",
    "# max_n_seasons = tota['n_seasons'][max_n_seasons_idx]\n",
    "\n",
    "# # Crea un mask per individuare dove entrambi i n_seasons sono NaN\n",
    "# nan_mask = np.isnan(tota.sel(n_seasons=2)) & np.isnan(tota.sel(n_seasons=4))\n",
    "\n",
    "# # Rimuovere i NaN dai risultati finali usando il mask\n",
    "# max_n_seasons = max_n_seasons.where(~nan_mask)"
   ]
  },
  {
   "cell_type": "code",
   "execution_count": null,
   "metadata": {},
   "outputs": [],
   "source": [
    "# plot = max_n_seasons.plot(vmin=1, vmax=5, levels=3, add_colorbar=False, figsize=(5,5))\n",
    "\n",
    "# standard_format_single( plot,\n",
    "#                         country_boundary   = country_boundary,\n",
    "#                         # world_boundary     = world_boundary,\n",
    "#                         custom_cbar        = True\n",
    "#                         )\n",
    "# plot.colorbar.set_ticks(ticks=[2,4], labels=[2,4])"
   ]
  }
 ],
 "metadata": {
  "kernelspec": {
   "display_name": "CC_py",
   "language": "python",
   "name": "python3"
  },
  "language_info": {
   "codemirror_mode": {
    "name": "ipython",
    "version": 3
   },
   "file_extension": ".py",
   "mimetype": "text/x-python",
   "name": "python",
   "nbconvert_exporter": "python",
   "pygments_lexer": "ipython3",
   "version": "3.11.5"
  }
 },
 "nbformat": 4,
 "nbformat_minor": 2
}
