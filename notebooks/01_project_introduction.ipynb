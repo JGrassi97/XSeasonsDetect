{
 "cells": [
  {
   "cell_type": "markdown",
   "metadata": {},
   "source": [
    "# 01 - Project Introduction: *What are the Meteorological Seasons?*"
   ]
  },
  {
   "cell_type": "markdown",
   "metadata": {},
   "source": [
    "## Administrative boundaries data\n",
    "The data are taken from [GADM](https://gadm.org/about.html), version 4.1. Data are distributed in GeoPackage format. Two different files are used:\n",
    "- **WORLD**: contains the first level (countries) for the entire world (*data/gadm_410-levels.gpkg*)\n",
    "- **INDIA**: contains the four administration levels of India (*data/gadm41_IND.gpkg*)\n",
    "\n",
    "\n",
    "\n",
    "#### *Administrative division of India*\n",
    "- Level 0: Country\n",
    "- Level 1: States and union territories\n",
    "- Level 2: District\n",
    "- Level 3: Taluc\n",
    "\n",
    "<sub><sup> *DISCLAIMER: Some regions in this area are disputed between states. The authors do not take responsibility for the borders shown, which are sourced from the GADM dataset.* </sup></sub>"
   ]
  },
  {
   "cell_type": "code",
   "execution_count": 2,
   "metadata": {},
   "outputs": [],
   "source": [
    "import xarray as xr\n",
    "\n",
    "import matplotlib.pyplot as plt\n",
    "import geopandas as gpd\n",
    "from shapely.geometry import mapping\n",
    "import os\n"
   ]
  },
  {
   "cell_type": "code",
   "execution_count": 6,
   "metadata": {},
   "outputs": [],
   "source": [
    "#-- DECLARING DATA PATHS\n",
    "# Weather data from ERA5\n",
    "temperature_data_path   = '../data/preprocessed/ERA5/2m_temperature/temperature_15dd198*.nc'\n",
    "precipitation_data_path = '../data/preprocessed/ERA5/total_precipitation/precipitation_15dd198*.nc'\n",
    "\n",
    "# Geopackages with boundaries\n",
    "country_boundary_file   = '../data/raw/external/GADM41_IND.gpkg' \n",
    "world_boundary_file     = '../data/raw/external/GADM41_WORLD.gpkg' \n",
    "\n",
    "#-- IMPORTING DATA\n",
    "# Single xarray dataset for ERA5  \n",
    "\n",
    "dataset_temperature     = xr.open_mfdataset(temperature_data_path).var167.rename('t2m') - 273.15     # TO_DO move naming and standardization in preprocessing\n",
    "dataset_precipitation   = xr.open_mfdataset(precipitation_data_path).tp * 1000                        # TO_DO move naming and standardization in preprocessing\n",
    "\n",
    "\n",
    "# Geodataframes for boudaries - Level 0 is for country boundaries \n",
    "country_boundary    = gpd.read_file(country_boundary_file, layer = 'ADM_ADM_0')\n",
    "world_boundary      = gpd.read_file(world_boundary_file, layer = 'ADM_0')"
   ]
  }
 ],
 "metadata": {
  "kernelspec": {
   "display_name": "base",
   "language": "python",
   "name": "python3"
  },
  "language_info": {
   "codemirror_mode": {
    "name": "ipython",
    "version": 3
   },
   "file_extension": ".py",
   "mimetype": "text/x-python",
   "name": "python",
   "nbconvert_exporter": "python",
   "pygments_lexer": "ipython3",
   "version": "3.11.5"
  }
 },
 "nbformat": 4,
 "nbformat_minor": 2
}
